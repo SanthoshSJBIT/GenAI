{
  "nbformat": 4,
  "nbformat_minor": 0,
  "metadata": {
    "colab": {
      "provenance": [],
      "authorship_tag": "ABX9TyMCjnTdn489insibqpVJOlT"
    },
    "kernelspec": {
      "name": "python3",
      "display_name": "Python 3"
    },
    "language_info": {
      "name": "python"
    }
  },
  "cells": [
    {
      "cell_type": "code",
      "execution_count": 2,
      "metadata": {
        "colab": {
          "base_uri": "https://localhost:8080/"
        },
        "id": "FL2lPviCzyY5",
        "outputId": "fbff680f-b775-46db-e8b9-3564f7ae2290"
      },
      "outputs": [
        {
          "output_type": "stream",
          "name": "stdout",
          "text": [
            "🔍 Loading Summarization Model (BART)...\n"
          ]
        },
        {
          "output_type": "stream",
          "name": "stderr",
          "text": [
            "Device set to use cpu\n"
          ]
        },
        {
          "output_type": "stream",
          "name": "stdout",
          "text": [
            "\n",
            " Original Text:\n",
            "\n",
            "Artificial Intelligence (AI) is a rapidly evolving field of computer science focused on creating intelligent machines\n",
            "capable of mimicking human cognitive functions such as learning, problem-solving, and decision-making.\n",
            "In recent years, AI has significantly impacted various industries, including healthcare, finance, education,\n",
            "and entertainment. AI-powered applications, such as chatbots, self-driving cars, and recommendation systems,\n",
            "have transformed the way we interact with technology. Machine learning and deep learning, subsets of AI,\n",
            "enable systems to learn from data and improve over time without explicit programming. However, AI also poses ethical\n",
            "challenges, such as bias in decision-making and concerns over job displacement. As AI technology continues to advance,\n",
            "it is crucial to balance innovation with ethical considerations to ensure its responsible development and deployment.\n",
            "\n",
            "\n",
            " Summarized Text:\n",
            "Default: Artificial Intelligence (AI) is a rapidly evolving field of computer science. It is focused on creating intelligent machines capable of mimicking human cognitive functions such as learning, problem-solving, and decision-making. In recent years, AI has significantly impacted various industries, including healthcare, finance, education, and entertainment.\n",
            "High Randomness: Artificial Intelligence (AI) is a rapidly evolving field of computer science. In recent years, AI has significantly impacted various industries, including healthcare, finance, education, and entertainment. As AI technology continues to advance, it is crucial to balance innovation with ethical considerations.\n",
            "Conservative: Artificial Intelligence (AI) is a rapidly evolving field of computer science. In recent years, AI has significantly impacted various industries, including healthcare, finance, education, and entertainment. As AI technology continues to advance, it is crucial to balance innovation with ethical considerations to ensure its responsible development and deployment.\n",
            "Diverse Sampling: Artificial Intelligence (AI) is a rapidly evolving field of computer science focused on creating intelligent machines. In recent years, AI has significantly impacted various industries, including healthcare, finance, education, and entertainment. It is crucial to balance innovation with ethical considerations to ensure its responsible development and deployment.\n"
          ]
        }
      ],
      "source": [
        "# Install required libraries (run only once)\n",
        "# !pip install transformers\n",
        "\n",
        "from transformers import pipeline\n",
        "\n",
        "# Load a more accurate pre-trained summarization model\n",
        "print(\"🔍 Loading Summarization Model (BART)...\")\n",
        "summarizer = pipeline(\"summarization\", model=\"facebook/bart-large-cnn\")\n",
        "\n",
        "# Function to summarize text with improved accuracy\n",
        "def summarize_text(text, max_length=None, min_length=None):\n",
        "    \"\"\"\n",
        "    Summarizes a given long text using a pre-trained BART summarization model.\n",
        "\n",
        "    Args:\n",
        "        text (str): The input passage to summarize.\n",
        "        max_length (int): Maximum length of the summary (optional).\n",
        "        min_length (int): Minimum length of the summary (optional).\n",
        "\n",
        "    Returns:\n",
        "        dict: A dictionary with various summarized outputs.\n",
        "    \"\"\"\n",
        "    # Remove unnecessary line breaks\n",
        "    text = \" \".join(text.split())\n",
        "\n",
        "    # Auto-adjust summary length based on text size\n",
        "    if not max_length:\n",
        "        max_length = min(len(text) // 3, 150)\n",
        "    if not min_length:\n",
        "        min_length = max(30, max_length // 3)\n",
        "\n",
        "    # Generate different styles of summaries\n",
        "    summary_outputs = {\n",
        "        \"Default\": summarizer(text, max_length=max_length, min_length=min_length, do_sample=False)[0]['summary_text'],\n",
        "        \"High Randomness\": summarizer(text, max_length=max_length, min_length=min_length, do_sample=True, temperature=0.9)[0]['summary_text'],\n",
        "        \"Conservative\": summarizer(text, max_length=max_length, min_length=min_length, do_sample=False, num_beams=5)[0]['summary_text'],\n",
        "        \"Diverse Sampling\": summarizer(text, max_length=max_length, min_length=min_length, do_sample=True, top_k=50, top_p=0.95)[0]['summary_text'],\n",
        "    }\n",
        "\n",
        "    return summary_outputs\n",
        "\n",
        "# Example long text passage\n",
        "long_text = \"\"\"\n",
        "Artificial Intelligence (AI) is a rapidly evolving field of computer science focused on creating intelligent machines\n",
        "capable of mimicking human cognitive functions such as learning, problem-solving, and decision-making.\n",
        "In recent years, AI has significantly impacted various industries, including healthcare, finance, education,\n",
        "and entertainment. AI-powered applications, such as chatbots, self-driving cars, and recommendation systems,\n",
        "have transformed the way we interact with technology. Machine learning and deep learning, subsets of AI,\n",
        "enable systems to learn from data and improve over time without explicit programming. However, AI also poses ethical\n",
        "challenges, such as bias in decision-making and concerns over job displacement. As AI technology continues to advance,\n",
        "it is crucial to balance innovation with ethical considerations to ensure its responsible development and deployment.\n",
        "\"\"\"\n",
        "\n",
        "# Summarize and print results\n",
        "summaries = summarize_text(long_text)\n",
        "print(\"\\n Original Text:\")\n",
        "print(long_text)\n",
        "print(\"\\n Summarized Text:\")\n",
        "for style, summary in summaries.items():\n",
        "    print(f\"{style}: {summary}\")\n"
      ]
    }
  ]
}
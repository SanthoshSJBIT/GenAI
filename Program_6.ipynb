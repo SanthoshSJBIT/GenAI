{
  "nbformat": 4,
  "nbformat_minor": 0,
  "metadata": {
    "colab": {
      "provenance": [],
      "authorship_tag": "ABX9TyN2nOxYpx8Ca8Lgz0iP9jWU"
    },
    "kernelspec": {
      "name": "python3",
      "display_name": "Python 3"
    },
    "language_info": {
      "name": "python"
    }
  },
  "cells": [
    {
      "cell_type": "code",
      "execution_count": 2,
      "metadata": {
        "colab": {
          "base_uri": "https://localhost:8080/"
        },
        "id": "4ShPasTkxlE7",
        "outputId": "82136847-e7d3-419b-aa67-aa2dac4f3b32"
      },
      "outputs": [
        {
          "output_type": "stream",
          "name": "stderr",
          "text": [
            "No model was supplied, defaulted to distilbert/distilbert-base-uncased-finetuned-sst-2-english and revision 714eb0f (https://huggingface.co/distilbert/distilbert-base-uncased-finetuned-sst-2-english).\n",
            "Using a pipeline without specifying a model name and revision in production is not recommended.\n",
            "Device set to use cpu\n"
          ]
        },
        {
          "output_type": "stream",
          "name": "stdout",
          "text": [
            "🔍 Loading Sentiment Analysis Model...\n",
            "\n",
            " Customer Sentiment Analysis Results:\n",
            "\n",
            " Input Text: The product is amazing! I love it so much.\n",
            " Sentiment: POSITIVE (Confidence: 0.9999)\n",
            "\n",
            "\n",
            " Input Text: I'm very disappointed. The service was terrible.\n",
            " Sentiment: NEGATIVE (Confidence: 0.9998)\n",
            "\n",
            "\n",
            " Input Text: It was an average experience, nothing special.\n",
            " Sentiment: NEGATIVE (Confidence: 0.9995)\n",
            "\n",
            "\n",
            " Input Text: Absolutely fantastic quality! Highly recommended.\n",
            " Sentiment: POSITIVE (Confidence: 0.9999)\n",
            "\n",
            "\n",
            " Input Text: Not great, but not the worst either.\n",
            " Sentiment: NEGATIVE (Confidence: 0.9961)\n",
            "\n"
          ]
        }
      ],
      "source": [
        "# Install required libraries (uncomment if needed)\n",
        "# !pip install transformers\n",
        "\n",
        "from transformers import pipeline\n",
        "\n",
        "# Load the sentiment analysis pipeline\n",
        "print(\"🔍 Loading Sentiment Analysis Model...\")\n",
        "sentiment_analyzer = pipeline(\"sentiment-analysis\")\n",
        "\n",
        "# Function to analyze sentiment\n",
        "def analyze_sentiment(text):\n",
        "    \"\"\"\n",
        "    Analyze the sentiment of a given text input.\n",
        "\n",
        "    Args:\n",
        "        text (str): Input sentence or paragraph.\n",
        "\n",
        "    Returns:\n",
        "        dict: Sentiment label and confidence score.\n",
        "    \"\"\"\n",
        "    result = sentiment_analyzer(text)[0]  # Get the first result\n",
        "    label = result['label']  # Sentiment label (POSITIVE/NEGATIVE)\n",
        "    score = result['score']  # Confidence score\n",
        "    print(f\"\\n Input Text: {text}\")\n",
        "    print(f\" Sentiment: {label} (Confidence: {score:.4f})\\n\")\n",
        "    return result\n",
        "\n",
        "# Example real-world application: Customer feedback analysis\n",
        "customer_reviews = [\n",
        "    \"The product is amazing! I love it so much.\",\n",
        "    \"I'm very disappointed. The service was terrible.\",\n",
        "    \"It was an average experience, nothing special.\",\n",
        "    \"Absolutely fantastic quality! Highly recommended.\",\n",
        "    \"Not great, but not the worst either.\"\n",
        "]\n",
        "\n",
        "# Analyze sentiment for multiple reviews\n",
        "print(\"\\n Customer Sentiment Analysis Results:\")\n",
        "for review in customer_reviews:\n",
        "    analyze_sentiment(review)"
      ]
    }
  ]
}
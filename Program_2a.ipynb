{
  "nbformat": 4,
  "nbformat_minor": 0,
  "metadata": {
    "colab": {
      "provenance": [],
      "authorship_tag": "ABX9TyOfXYvZxsIUiZn48nIFM9D3"
    },
    "kernelspec": {
      "name": "python3",
      "display_name": "Python 3"
    },
    "language_info": {
      "name": "python"
    }
  },
  "cells": [
    {
      "cell_type": "code",
      "execution_count": null,
      "metadata": {
        "id": "_G3PtBt35HfZ"
      },
      "outputs": [],
      "source": [
        "# Install required libraries\n",
        "!pip install gensim numpy matplotlib sklearn\n"
      ]
    },
    {
      "cell_type": "code",
      "source": [
        "# Import libraries\n",
        "import gensim.downloader as api\n",
        "import numpy as np\n",
        "import matplotlib.pyplot as plt\n",
        "from sklearn.decomposition import PCA\n",
        "from sklearn.manifold import TSNE"
      ],
      "metadata": {
        "id": "l3Vc0-3n5IOA"
      },
      "execution_count": null,
      "outputs": []
    },
    {
      "cell_type": "code",
      "source": [
        "# Load pre-trained word vectors\n",
        "print(\"Loading pre-trained word vectors...\")\n",
        "word_vectors = api.load(\"word2vec-google-news-300\") # Load Word2Vec model"
      ],
      "metadata": {
        "id": "16yRosIj5IQJ"
      },
      "execution_count": null,
      "outputs": []
    },
    {
      "cell_type": "code",
      "source": [
        "# Function to perform vector arithmetic and find similar words\n",
        "def explore_word_relationships(word1, word2, word3):\n",
        " try:\n",
        "  # Perform vector arithmetic: word1 - word2 + word3\n",
        "  result_vector = word_vectors[word1] - word_vectors[word2] + word_vectors[word3]\n",
        "\n",
        "  # Find the most similar words to the resulting vector\n",
        "  similar_words = word_vectors.similar_by_vector(result_vector, topn=10)\n",
        "\n",
        "  # Exclude input words from the results\n",
        "  input_words = {word1, word2, word3}\n",
        "  filtered_words = [(word, similarity) for word, similarity in similar_words if word not in input_words]\n",
        "\n",
        "  print(f\"\\nWord Relationship: {word1} - {word2} + {word3}\")\n",
        "  print(\"Most similar words to the result (excluding input words):\")\n",
        "  for word, similarity in filtered_words[:5]: # Show top 5 results\n",
        "  print(f\"{word}: {similarity:.4f}\")\n",
        "\n",
        "  return filtered_words\n",
        "\n",
        " except KeyError as e:\n",
        "  print(f\"Error: {e} not found in the vocabulary.\")\n",
        "  return []"
      ],
      "metadata": {
        "id": "ab6rF3jg5ISU"
      },
      "execution_count": null,
      "outputs": []
    },
    {
      "cell_type": "code",
      "source": [
        "# Function to visualize word embeddings using PCA or t-SNE\n",
        "def visualize_word_embeddings(words, vectors, method='pca'):\n",
        " # Reduce dimensionality to 2D\n",
        " if method == 'pca':\n",
        " reducer = PCA(n_components=2)\n",
        " elif method == 'tsne':\n",
        " reducer = TSNE(n_components=2, random_state=42, perplexity=3) # Adjust perplexity as needed\n",
        " else:\n",
        "  raise ValueError(\"Method must be 'pca' or 'tsne'.\")"
      ],
      "metadata": {
        "id": "kzhA_9JI5IUv"
      },
      "execution_count": null,
      "outputs": []
    },
    {
      "cell_type": "code",
      "source": [
        "# Fit and transform the vectors\n",
        " reduced_vectors = reducer.fit_transform(vectors)"
      ],
      "metadata": {
        "id": "dJZfyyMd5IXI"
      },
      "execution_count": null,
      "outputs": []
    },
    {
      "cell_type": "code",
      "source": [
        "# Plot the results\n",
        " plt.figure(figsize=(10, 8))\n",
        " for i, word in enumerate(words):\n",
        "  plt.scatter(reduced_vectors[i, 0], reduced_vectors[i, 1], marker='o', color='blue')\n",
        "  plt.text(reduced_vectors[i, 0] + 0.02, reduced_vectors[i, 1] + 0.02, word, fontsize=12)\n",
        "\n",
        " plt.title(f\"Word Embeddings Visualization using {method.upper()}\")\n",
        " plt.xlabel(\"Component 1\")\n",
        " plt.ylabel(\"Component 2\")\n",
        " plt.grid(True)\n",
        " plt.show()"
      ],
      "metadata": {
        "id": "tQQC6oYR5IZR"
      },
      "execution_count": null,
      "outputs": []
    },
    {
      "cell_type": "code",
      "source": [
        "# Example word relationships to explore\n",
        "words_to_explore = [\"king\", \"man\", \"woman\", \"queen\", \"prince\", \"princess\", \"royal\", \"throne\"]\n",
        "filtered_words = explore_word_relationships(\"king\", \"man\", \"woman\")\n"
      ],
      "metadata": {
        "id": "JyKIheFd5Ibo"
      },
      "execution_count": null,
      "outputs": []
    },
    {
      "cell_type": "code",
      "source": [
        "# Add the filtered words to the list of words to visualize\n",
        "words_to_visualize = words_to_explore + [word for word, _ in filtered_words]"
      ],
      "metadata": {
        "id": "lAY9A-nn5Idy"
      },
      "execution_count": null,
      "outputs": []
    },
    {
      "cell_type": "code",
      "source": [
        "# Get vectors for the words to visualize\n",
        "vectors_to_visualize = np.array([word_vectors[word] for word in words_to_visualize])"
      ],
      "metadata": {
        "id": "DRWa76IU6--E"
      },
      "execution_count": null,
      "outputs": []
    },
    {
      "cell_type": "code",
      "source": [
        "# Visualize using PCA\n",
        "visualize_word_embeddings(words_to_visualize, vectors_to_visualize, method='pca')"
      ],
      "metadata": {
        "id": "i2bIjSPj6_A3"
      },
      "execution_count": null,
      "outputs": []
    },
    {
      "cell_type": "code",
      "source": [
        "# Visualize using t-SNE\n",
        "visualize_word_embeddings(words_to_visualize, vectors_to_visualize, method='tsne')"
      ],
      "metadata": {
        "id": "uCe6e8eQ6_DK"
      },
      "execution_count": null,
      "outputs": []
    }
  ]
}
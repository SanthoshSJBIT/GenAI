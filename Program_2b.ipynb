{
  "nbformat": 4,
  "nbformat_minor": 0,
  "metadata": {
    "colab": {
      "provenance": [],
      "authorship_tag": "ABX9TyN3tDGtEmMIn3c65Ou9buYr"
    },
    "kernelspec": {
      "name": "python3",
      "display_name": "Python 3"
    },
    "language_info": {
      "name": "python"
    }
  },
  "cells": [
    {
      "cell_type": "code",
      "execution_count": null,
      "metadata": {
        "id": "sfkqePpX78e7"
      },
      "outputs": [],
      "source": [
        "# Install required libraries\n",
        "!pip install gensim scikit-learn matplotlib"
      ]
    },
    {
      "cell_type": "code",
      "source": [
        "# Import libraries\n",
        "import gensim.downloader as api\n",
        "import numpy as np\n",
        "import matplotlib.pyplot as plt\n",
        "from sklearn.decomposition import PCA\n",
        "from sklearn.manifold import TSNE"
      ],
      "metadata": {
        "id": "uf3vyc5R8DLq"
      },
      "execution_count": null,
      "outputs": []
    },
    {
      "cell_type": "code",
      "source": [
        "# Load pre-trained word vectors\n",
        "print(\"Loading pre-trained word vectors...\")\n",
        "word_vectors = api.load(\"word2vec-google-news-300\") # Load Word2Vec model"
      ],
      "metadata": {
        "id": "nbv2sG088DNh"
      },
      "execution_count": null,
      "outputs": []
    },
    {
      "cell_type": "code",
      "source": [
        "# Select 10 words from a specific domain (e.g., technology)\n",
        "domain_words = [\"computer\", \"software\", \"hardware\", \"algorithm\", \"data\", \"network\",\n",
        "\"programming\", \"machine\", \"learning\", \"artificial\"]"
      ],
      "metadata": {
        "id": "3W--M5y08DP2"
      },
      "execution_count": null,
      "outputs": []
    },
    {
      "cell_type": "code",
      "source": [
        "# Get vectors for the selected words\n",
        "domain_vectors = np.array([word_vectors[word] for word in domain_words])"
      ],
      "metadata": {
        "id": "teo_mFjP8DSG"
      },
      "execution_count": null,
      "outputs": []
    },
    {
      "cell_type": "code",
      "source": [
        "# Function to visualize word embeddings using PCA or t-SNE\n",
        "def visualize_word_embeddings(words, vectors, method='pca', perplexity=5):\n",
        " # Reduce dimensionality to 2D\n",
        " if method == 'pca':\n",
        "  reducer = PCA(n_components=2)\n",
        " elif method == 'tsne':\n",
        "  reducer = TSNE(n_components=2, random_state=42, perplexity=perplexity)\n",
        " else:\n",
        "  raise ValueError(\"Method must be 'pca' or 'tsne'.\")"
      ],
      "metadata": {
        "id": "Gg53pDW88DUT"
      },
      "execution_count": null,
      "outputs": []
    },
    {
      "cell_type": "code",
      "source": [
        "# Fit and transform the vectors\n",
        " reduced_vectors = reducer.fit_transform(vectors)"
      ],
      "metadata": {
        "id": "RkaRKYnu8DWh"
      },
      "execution_count": null,
      "outputs": []
    },
    {
      "cell_type": "code",
      "source": [
        "# Plot the results\n",
        " plt.figure(figsize=(10, 8))\n",
        " for i, word in enumerate(words):\n",
        "  plt.scatter(reduced_vectors[i, 0], reduced_vectors[i, 1], marker='o', color='blue')\n",
        "  plt.text(reduced_vectors[i, 0] + 0.02, reduced_vectors[i, 1] + 0.02, word, fontsize=12)\n",
        "\n",
        " plt.title(f\"Word Embeddings Visualization using {method.upper()}\")\n",
        " plt.xlabel(\"Component 1\")\n",
        " plt.ylabel(\"Component 2\")\n",
        " plt.grid(True)\n",
        " plt.show()"
      ],
      "metadata": {
        "id": "-sYbodQA8DYp"
      },
      "execution_count": null,
      "outputs": []
    },
    {
      "cell_type": "code",
      "source": [
        "# Visualize using PCA\n",
        "visualize_word_embeddings(domain_words, domain_vectors, method='pca')"
      ],
      "metadata": {
        "id": "LxSfWuH38DbA"
      },
      "execution_count": null,
      "outputs": []
    },
    {
      "cell_type": "code",
      "source": [
        "# Visualize using t-SNE\n",
        "visualize_word_embeddings(domain_words, domain_vectors, method='tsne', perplexity=3)"
      ],
      "metadata": {
        "id": "IaE0VcSu8DdK"
      },
      "execution_count": null,
      "outputs": []
    },
    {
      "cell_type": "code",
      "source": [
        "# Function to generate 5 semantically similar words\n",
        "def generate_similar_words(word):\n",
        "  try:\n",
        "    similar_words = word_vectors.most_similar(word, topn=5)\n",
        "    print(f\"\\nTop 5 semantically similar words to '{word}':\")\n",
        "    for similar_word, similarity in similar_words:\n",
        "      print(f\"{similar_word}: {similarity:.4f}\")\n",
        "  except KeyError as e:\n",
        "    print(f\"Error: {e} not found in the vocabulary.\")"
      ],
      "metadata": {
        "id": "9Dk26kAo8bvs"
      },
      "execution_count": null,
      "outputs": []
    },
    {
      "cell_type": "code",
      "source": [
        "# Example: Generate similar words for a given input\n",
        "generate_similar_words(\"computer\")\n",
        "generate_similar_words(\"learning\")"
      ],
      "metadata": {
        "id": "nvPaiCfk8bye"
      },
      "execution_count": null,
      "outputs": []
    }
  ]
}
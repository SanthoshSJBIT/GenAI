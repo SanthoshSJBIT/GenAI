{
  "nbformat": 4,
  "nbformat_minor": 0,
  "metadata": {
    "colab": {
      "provenance": [],
      "authorship_tag": "ABX9TyN845HCLkDXmSvN48wnJeGO",
      "include_colab_link": true
    },
    "kernelspec": {
      "name": "python3",
      "display_name": "Python 3"
    },
    "language_info": {
      "name": "python"
    }
  },
  "cells": [
    {
      "cell_type": "markdown",
      "metadata": {
        "id": "view-in-github",
        "colab_type": "text"
      },
      "source": [
        "<a href=\"https://colab.research.google.com/github/SanthoshSJBIT/GenAI/blob/main/Program_8.ipynb\" target=\"_parent\"><img src=\"https://colab.research.google.com/assets/colab-badge.svg\" alt=\"Open In Colab\"/></a>"
      ]
    },
    {
      "cell_type": "code",
      "execution_count": 3,
      "metadata": {
        "colab": {
          "base_uri": "https://localhost:8080/"
        },
        "id": "Neu5WRUgOhAR",
        "outputId": "3f616c2b-6e21-4cca-bc2e-e3d7d70b3f21"
      },
      "outputs": [
        {
          "output_type": "stream",
          "name": "stderr",
          "text": [
            "Downloading...\n",
            "From: https://drive.google.com/uc?id=1dFgLsDIVSCUfzBYgAR85bzN2LZpxNtJj\n",
            "To: /content/document.txt\n",
            "100%|██████████| 650/650 [00:00<00:00, 1.48MB/s]\n",
            "<ipython-input-3-f548f6d9002c>:24: LangChainDeprecationWarning: The class `Cohere` was deprecated in LangChain 0.1.14 and will be removed in 1.0. An updated version of the class exists in the :class:`~langchain-cohere package and should be used instead. To use it run `pip install -U :class:`~langchain-cohere` and import as `from :class:`~langchain_cohere import Cohere``.\n",
            "  llm = Cohere(model=\"command\", temperature=0.3)\n"
          ]
        },
        {
          "output_type": "stream",
          "name": "stdout",
          "text": [
            "Generated Output:\n",
            " \n",
            "Certainly, here is a summary of the text you provided:\n",
            "\n",
            "=== Summary ===\n",
            "The Internet has revolutionized modern life, reshaping how we communicate, learn, shop, and work, offering unprecedented convenience and accessibility. Remarkable, its impact is evident in the realm of social connection, where social media platforms keep people connected regardless of physical distance. In addition, it has vastly expanded business reach, enabling enterprises to penetrate global markets without the necessity of a physical store. \n",
            "\n",
            "However, the Internet also presents challenges, including privacy concerns, misinformation, and digital addiction, issues that must be addressed to fully harness its positive potential. Used responsibly, the Internet remains an incredible tool that greatly improves our everyday life. \n",
            "\n",
            "Let me know if you would like me to make any further adjustments to this summary.\n",
            "\n"
          ]
        }
      ],
      "source": [
        "# Install required libraries\n",
        "!pip install -q langchain cohere langchain-community gdown\n",
        "\n",
        "# Set Cohere API Key\n",
        "import os\n",
        "os.environ[\"COHERE_API_KEY\"] = \"dvmz1R8vo06ap3m1gdLcXiGjGQmuBGtb2W0oqFdQ\"  # Replace with your key\n",
        "\n",
        "# Load text document from Google Drive\n",
        "import gdown\n",
        "\n",
        "file_id = \"Cohere API Key\"  # Replace with your file's ID\n",
        "url = f\"https://drive.google.com/uc?id={file_id}\"\n",
        "output = \"document.txt\"\n",
        "\n",
        "gdown.download(url, output, quiet=False)\n",
        "\n",
        "with open(output, 'r') as file:\n",
        "    document_text = file.read()\n",
        "\n",
        "# Create a prompt template using LangChain\n",
        "from langchain.prompts import PromptTemplate\n",
        "from langchain_community.llms import Cohere\n",
        "\n",
        "llm = Cohere(model=\"command\", temperature=0.3)\n",
        "\n",
        "template = \"\"\"\n",
        "You are an assistant summarizing text documents. Format the summary as follows:\n",
        "\n",
        "=== Summary ===\n",
        "{summary}\n",
        "\n",
        "Now, summarize the following content:\n",
        "\n",
        "{text}\n",
        "\"\"\"\n",
        "\n",
        "prompt = PromptTemplate(\n",
        "    input_variables=[\"text\", \"summary\"],\n",
        "    template=template\n",
        ")\n",
        "\n",
        "# Format prompt and run\n",
        "final_prompt = prompt.format(text=document_text, summary=\"\")\n",
        "response = llm.invoke(final_prompt)\n",
        "\n",
        "# Display output\n",
        "print(\"Generated Output:\")\n",
        "print(response)\n"
      ]
    }
  ]
}
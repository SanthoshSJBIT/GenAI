{
  "nbformat": 4,
  "nbformat_minor": 0,
  "metadata": {
    "colab": {
      "provenance": [],
      "authorship_tag": "ABX9TyMWyp/fHAMTssA1Vet7Gzbn"
    },
    "kernelspec": {
      "name": "python3",
      "display_name": "Python 3"
    },
    "language_info": {
      "name": "python"
    }
  },
  "cells": [
    {
      "cell_type": "code",
      "execution_count": 2,
      "metadata": {
        "colab": {
          "base_uri": "https://localhost:8080/"
        },
        "id": "M8wmLArrIh-N",
        "outputId": "605c3a0f-96d8-4636-c7e7-d645c3cafdc4"
      },
      "outputs": [
        {
          "output_type": "stream",
          "name": "stdout",
          "text": [
            "Requirement already satisfied: gensim in /usr/local/lib/python3.11/dist-packages (4.3.3)\n",
            "Requirement already satisfied: numpy<2.0,>=1.18.5 in /usr/local/lib/python3.11/dist-packages (from gensim) (1.26.4)\n",
            "Requirement already satisfied: scipy<1.14.0,>=1.7.0 in /usr/local/lib/python3.11/dist-packages (from gensim) (1.13.1)\n",
            "Requirement already satisfied: smart-open>=1.8.1 in /usr/local/lib/python3.11/dist-packages (from gensim) (7.1.0)\n",
            "Requirement already satisfied: wrapt in /usr/local/lib/python3.11/dist-packages (from smart-open>=1.8.1->gensim) (1.17.2)\n"
          ]
        },
        {
          "output_type": "stream",
          "name": "stderr",
          "text": [
            "[nltk_data] Downloading package punkt to /root/nltk_data...\n",
            "[nltk_data]   Package punkt is already up-to-date!\n"
          ]
        },
        {
          "output_type": "stream",
          "name": "stdout",
          "text": [
            "Loading pre-trained word vectors...\n",
            "Word vectors loaded successfully!\n",
            "Enter a seed word: mountain\n",
            "\n",
            "Generated Paragraph:\n",
            "\n",
            "The mountain was surrounded by mountains and hills. A story about mountain would be incomplete without hills and ridge. People often associate mountain with valley and ridge. In the land of mountain, alpine was a common sight.\n"
          ]
        }
      ],
      "source": [
        "# Use word embeddings to create meaningful sentences for creative tasks. Retrieve similar words for a seed word.\n",
        "# Create a sentence or story using these words as a starting point.\n",
        "# Write a program that: Takes a seed word. Generates similar words. Constructs a short paragraph using these words.\n",
        "\n",
        "!pip install gensim\n",
        "import gensim.downloader as api\n",
        "import random\n",
        "import nltk\n",
        "from nltk.tokenize import sent_tokenize\n",
        "\n",
        "# Ensure required resources are downloaded\n",
        "nltk.download('punkt')\n",
        "\n",
        "# Load pre-trained word vectors\n",
        "print(\"Loading pre-trained word vectors...\")\n",
        "word_vectors = api.load(\"glove-wiki-gigaword-100\")  # 100D GloVe word embeddings\n",
        "print(\"Word vectors loaded successfully!\")\n",
        "\n",
        "def get_similar_words(seed_word, top_n=5):\n",
        "    \"\"\"Retrieve top-N similar words for a given seed word.\"\"\"\n",
        "    try:\n",
        "        similar_words = word_vectors.most_similar(seed_word, topn=top_n)\n",
        "        return [word[0] for word in similar_words]\n",
        "    except KeyError:\n",
        "        print(f\"'{seed_word}' not found in vocabulary. Try another word.\")\n",
        "        return []\n",
        "\n",
        "def generate_sentence(seed_word, similar_words):\n",
        "    \"\"\"Create a meaningful sentence using the seed word and its similar words.\"\"\"\n",
        "    if len(similar_words) < 5:\n",
        "        return f\"Not enough similar words to generate a sentence for '{seed_word}'.\"\n",
        "\n",
        "    sentence_templates = [\n",
        "        f\"The {seed_word} was surrounded by {similar_words[0]} and {similar_words[1]}.\",\n",
        "        f\"People often associate {seed_word} with {similar_words[2]} and {similar_words[3]}.\",\n",
        "        f\"In the land of {seed_word}, {similar_words[4]} was a common sight.\",\n",
        "        f\"A story about {seed_word} would be incomplete without {similar_words[1]} and {similar_words[3]}.\",\n",
        "    ]\n",
        "    return random.choice(sentence_templates)\n",
        "\n",
        "def generate_paragraph(seed_word):\n",
        "    \"\"\"Construct a creative paragraph using the seed word and similar words.\"\"\"\n",
        "    similar_words = get_similar_words(seed_word, top_n=5)\n",
        "    if not similar_words:\n",
        "        return \"Could not generate a paragraph. Try another seed word.\"\n",
        "\n",
        "    paragraph = [generate_sentence(seed_word, similar_words) for _ in range(4)]\n",
        "    return \" \".join(paragraph)\n",
        "\n",
        "# Example usage\n",
        "if __name__ == \"__main__\":\n",
        "    seed_word = input(\"Enter a seed word: \")\n",
        "    paragraph = generate_paragraph(seed_word)\n",
        "    print(\"\\nGenerated Paragraph:\\n\")\n",
        "    print(paragraph)\n",
        "\n",
        "\n",
        "\n",
        "\n",
        "\n"
      ]
    }
  ]
}
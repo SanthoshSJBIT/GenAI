{
  "nbformat": 4,
  "nbformat_minor": 0,
  "metadata": {
    "colab": {
      "provenance": [],
      "authorship_tag": "ABX9TyOmBU/eorNkmU2T7glfTjKT"
    },
    "kernelspec": {
      "name": "python3",
      "display_name": "Python 3"
    },
    "language_info": {
      "name": "python"
    }
  },
  "cells": [
    {
      "cell_type": "code",
      "execution_count": null,
      "metadata": {
        "id": "U_4ASctLUNTz"
      },
      "outputs": [],
      "source": []
    },
    {
      "cell_type": "code",
      "source": [
        "!pip install gensim\n",
        "!pip install numpy==1.24.4 --force-reinstall\n",
        "import gensim.downloader as api\n",
        "import random\n",
        "import nltk\n",
        "from nltk.tokenize import sent_tokenize\n",
        "\n",
        "# Ensure required resources are downloaded\n",
        "nltk.download('punkt')\n",
        "\n",
        "# Load pre-trained word vectors\n",
        "print(\"Loading pre-trained word vectors...\")\n",
        "word_vectors = api.load(\"glove-wiki-gigaword-100\")  # 100D GloVe word embeddings\n",
        "print(\"Word vectors loaded successfully!\")\n",
        "\n",
        "def get_similar_words(seed_word, top_n=5):\n",
        "    \"\"\"Retrieve top-N similar words for a given seed word.\"\"\"\n",
        "    try:\n",
        "        similar_words = word_vectors.most_similar(seed_word, topn=top_n)\n",
        "        return [word[0] for word in similar_words]\n",
        "    except KeyError:\n",
        "        print(f\"'{seed_word}' not found in vocabulary. Try another word.\")\n",
        "        return []\n",
        "\n",
        "def generate_sentence(seed_word, similar_words):\n",
        "    \"\"\"Create a meaningful sentence using the seed word and its similar words.\"\"\"\n",
        "    sentence_templates = [\n",
        "        f\"The {seed_word} was surrounded by {similar_words[0]} and {similar_words[1]}.\",\n",
        "        f\"People often associate {seed_word} with {similar_words[2]} and {similar_words[3]}.\",\n",
        "        f\"In the land of {seed_word}, {similar_words[4]} was a common sight.\",\n",
        "        f\"A story about {seed_word} would be incomplete without {similar_words[1]} and {similar_words[3]}.\",\n",
        "    ]\n",
        "    return random.choice(sentence_templates)\n",
        "\n",
        "def generate_paragraph(seed_word):\n",
        "    \"\"\"Construct a creative paragraph using the seed word and similar words.\"\"\"\n",
        "    similar_words = get_similar_words(seed_word, top_n=5)\n",
        "    if not similar_words:\n",
        "        return \"Could not generate a paragraph. Try another seed word.\"\n",
        "    paragraph = [generate_sentence(seed_word, similar_words) for _ in range(4)]\n",
        "    return \" \".join(paragraph)\n",
        "\n",
        "# Example usage\n",
        "seed_word = input(\"Enter a seed word: \")\n",
        "paragraph = generate_paragraph(seed_word)\n",
        "print(\"\\nGenerated Paragraph:\\n\")\n",
        "print(paragraph)"
      ],
      "metadata": {
        "colab": {
          "base_uri": "https://localhost:8080/",
          "height": 717
        },
        "id": "YtgtEl3aUN_m",
        "outputId": "4a637dc0-ebdc-48eb-e740-caf215362cb9"
      },
      "execution_count": 1,
      "outputs": [
        {
          "output_type": "stream",
          "name": "stdout",
          "text": [
            "Requirement already satisfied: gensim in /usr/local/lib/python3.11/dist-packages (4.3.3)\n",
            "Requirement already satisfied: numpy<2.0,>=1.18.5 in /usr/local/lib/python3.11/dist-packages (from gensim) (1.24.4)\n",
            "Requirement already satisfied: scipy<1.14.0,>=1.7.0 in /usr/local/lib/python3.11/dist-packages (from gensim) (1.13.1)\n",
            "Requirement already satisfied: smart-open>=1.8.1 in /usr/local/lib/python3.11/dist-packages (from gensim) (7.1.0)\n",
            "Requirement already satisfied: wrapt in /usr/local/lib/python3.11/dist-packages (from smart-open>=1.8.1->gensim) (1.17.2)\n",
            "Collecting numpy==1.24.4\n",
            "  Using cached numpy-1.24.4-cp311-cp311-manylinux_2_17_x86_64.manylinux2014_x86_64.whl.metadata (5.6 kB)\n",
            "Using cached numpy-1.24.4-cp311-cp311-manylinux_2_17_x86_64.manylinux2014_x86_64.whl (17.3 MB)\n",
            "Installing collected packages: numpy\n",
            "  Attempting uninstall: numpy\n",
            "    Found existing installation: numpy 1.24.4\n",
            "    Uninstalling numpy-1.24.4:\n",
            "      Successfully uninstalled numpy-1.24.4\n",
            "\u001b[31mERROR: pip's dependency resolver does not currently take into account all the packages that are installed. This behaviour is the source of the following dependency conflicts.\n",
            "blosc2 3.2.1 requires numpy>=1.26, but you have numpy 1.24.4 which is incompatible.\n",
            "tensorflow 2.18.0 requires numpy<2.1.0,>=1.26.0, but you have numpy 1.24.4 which is incompatible.\n",
            "jaxlib 0.5.1 requires numpy>=1.25, but you have numpy 1.24.4 which is incompatible.\n",
            "pymc 5.21.2 requires numpy>=1.25.0, but you have numpy 1.24.4 which is incompatible.\n",
            "thinc 8.3.6 requires numpy<3.0.0,>=2.0.0, but you have numpy 1.24.4 which is incompatible.\n",
            "jax 0.5.2 requires numpy>=1.25, but you have numpy 1.24.4 which is incompatible.\n",
            "treescope 0.1.9 requires numpy>=1.25.2, but you have numpy 1.24.4 which is incompatible.\u001b[0m\u001b[31m\n",
            "\u001b[0mSuccessfully installed numpy-1.24.4\n"
          ]
        },
        {
          "output_type": "display_data",
          "data": {
            "application/vnd.colab-display-data+json": {
              "pip_warning": {
                "packages": [
                  "numpy"
                ]
              },
              "id": "e6139fa8d8cb4273b10040252cefeda8"
            }
          },
          "metadata": {}
        },
        {
          "output_type": "stream",
          "name": "stderr",
          "text": [
            "[nltk_data] Downloading package punkt to /root/nltk_data...\n",
            "[nltk_data]   Unzipping tokenizers/punkt.zip.\n"
          ]
        },
        {
          "output_type": "stream",
          "name": "stdout",
          "text": [
            "Loading pre-trained word vectors...\n",
            "[==================================================] 100.0% 128.1/128.1MB downloaded\n",
            "Word vectors loaded successfully!\n",
            "Enter a seed word: engineering\n",
            "\n",
            "Generated Paragraph:\n",
            "\n",
            "The engineering was surrounded by sciences and technology. The engineering was surrounded by sciences and technology. A story about engineering would be incomplete without technology and science. In the land of engineering, mechanical was a common sight.\n"
          ]
        }
      ]
    }
  ]
}